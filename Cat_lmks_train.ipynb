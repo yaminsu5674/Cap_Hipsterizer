{
  "nbformat": 4,
  "nbformat_minor": 0,
  "metadata": {
    "colab": {
      "name": "Cat_lmks",
      "provenance": [],
      "authorship_tag": "ABX9TyOiDzcL9q2BUDwYQVipVAYG",
      "include_colab_link": true
    },
    "kernelspec": {
      "name": "python3",
      "display_name": "Python 3"
    },
    "accelerator": "GPU"
  },
  "cells": [
    {
      "cell_type": "markdown",
      "metadata": {
        "id": "view-in-github",
        "colab_type": "text"
      },
      "source": [
        "<a href=\"https://colab.research.google.com/github/yaminsu5674/Cap_Hipsterizer/blob/main/Cat_lmks.ipynb\" target=\"_parent\"><img src=\"https://colab.research.google.com/assets/colab-badge.svg\" alt=\"Open In Colab\"/></a>"
      ]
    },
    {
      "cell_type": "code",
      "metadata": {
        "id": "aNR2q7T8uxk8"
      },
      "source": [
        "# Because of GPU environment I trained model_lmks on colab."
      ],
      "execution_count": null,
      "outputs": []
    },
    {
      "cell_type": "code",
      "metadata": {
        "id": "fHg82H1cAUWu",
        "colab": {
          "base_uri": "https://localhost:8080/"
        },
        "outputId": "0375536f-8685-42aa-f6af-8c50635cb217"
      },
      "source": [
        "from google.colab import drive\r\n",
        "drive.mount('/content/gdrive/')"
      ],
      "execution_count": null,
      "outputs": [
        {
          "output_type": "stream",
          "text": [
            "Mounted at /content/gdrive/\n"
          ],
          "name": "stdout"
        }
      ]
    },
    {
      "cell_type": "code",
      "metadata": {
        "colab": {
          "base_uri": "https://localhost:8080/"
        },
        "id": "OuNnrAK-d76D",
        "outputId": "9d5eed68-a0b6-48b7-bad5-06f08b015ab0"
      },
      "source": [
        "import torch\r\n",
        "import datetime\r\n",
        "import torch.nn as nn\r\n",
        "import torch.nn.init as init\r\n",
        "import torch.optim as optim\r\n",
        "import torch.nn.functional as F\r\n",
        "from torch.utils.data import Dataset\r\n",
        "from torch.utils.data import DataLoader\r\n",
        "\r\n",
        "import torchvision\r\n",
        "import torchvision.datasets as dsets\r\n",
        "import torchvision.transforms as transforms\r\n",
        "\r\n",
        "from torchsummary import summary\r\n",
        "\r\n",
        "import random\r\n",
        "import numpy as np\r\n",
        "import datetime\r\n",
        "\r\n",
        "CUDA_ABAILABLE=torch.cuda.is_available()\r\n",
        "device=torch.device('cuda' if CUDA_ABAILABLE else 'cpu')\r\n",
        "print('device : {}'.format(device))\r\n",
        "\r\n",
        "random.seed(23)\r\n",
        "torch.manual_seed(23)\r\n",
        "if device=='cuda':\r\n",
        "  torch.cuda.manual_seed_all(23)\r\n",
        "\r\n"
      ],
      "execution_count": null,
      "outputs": [
        {
          "output_type": "stream",
          "text": [
            "device : cuda\n"
          ],
          "name": "stdout"
        }
      ]
    },
    {
      "cell_type": "code",
      "metadata": {
        "id": "Lv9Vbw5Le8MJ"
      },
      "source": [
        "img_size=224\r\n",
        "\r\n",
        "mode='lmks'\r\n",
        "if mode is 'bbs':\r\n",
        "  output_size=4\r\n",
        "elif mode is 'lmks':\r\n",
        "  output_size=18\r\n",
        "\r\n",
        "start_time=datetime.datetime.now().strftime('%Y_%m_%d_%H_%M_%S')\r\n",
        "\r\n",
        "data_00=np.load('/content/gdrive/MyDrive/Downloads/Cat_hipsterizer/train_lmks_data/lmks_CAT_00.npy',allow_pickle=True)\r\n",
        "data_01=np.load('/content/gdrive/MyDrive/Downloads/Cat_hipsterizer/train_lmks_data/lmks_CAT_01.npy',allow_pickle=True)\r\n",
        "data_02=np.load('/content/gdrive/MyDrive/Downloads/Cat_hipsterizer/train_lmks_data/lmks_CAT_02.npy',allow_pickle=True)\r\n",
        "data_03=np.load('/content/gdrive/MyDrive/Downloads/Cat_hipsterizer/train_lmks_data/lmks_CAT_03.npy',allow_pickle=True)\r\n",
        "data_04=np.load('/content/gdrive/MyDrive/Downloads/Cat_hipsterizer/train_lmks_data/lmks_CAT_04.npy',allow_pickle=True)\r\n",
        "data_05=np.load('/content/gdrive/MyDrive/Downloads/Cat_hipsterizer/train_lmks_data/lmks_CAT_05.npy',allow_pickle=True)\r\n",
        "data_06=np.load('/content/gdrive/MyDrive/Downloads/Cat_hipsterizer/train_lmks_data/lmks_CAT_06.npy',allow_pickle=True)\r\n",
        "\r\n",
        "x_train = np.concatenate((data_00.item().get('imgs'), data_01.item().get('imgs'), data_02.item().get('imgs'), data_03.item().get('imgs'), data_04.item().get('imgs'), data_05.item().get('imgs')), axis=0)\r\n",
        "y_train = np.concatenate((data_00.item().get(mode), data_01.item().get(mode), data_02.item().get(mode), data_03.item().get(mode), data_04.item().get(mode), data_05.item().get(mode)), axis=0)\r\n",
        "\r\n",
        "x_test=np.array(data_06.item().get('imgs'))\r\n",
        "y_test=np.array(data_06.item().get(mode))\r\n",
        "\r\n",
        "x_train=x_train.astype('float32')/255.\r\n",
        "x_test=x_test.astype('float32')/255.\r\n",
        "x_train=np.reshape(x_train,(-1,3,img_size,img_size))\r\n",
        "x_test=np.reshape(x_test,(-1,3,img_size,img_size))\r\n",
        "\r\n",
        "y_train=np.reshape(y_train,(-1,output_size))\r\n",
        "y_test=np.reshape(y_test,(-1,output_size))"
      ],
      "execution_count": null,
      "outputs": []
    },
    {
      "cell_type": "code",
      "metadata": {
        "id": "mrEE6QUyjwsA"
      },
      "source": [
        "class CustomDataset(Dataset):\r\n",
        "    def __init__(self,x_train,y_train):\r\n",
        "        self.x_data=x_train\r\n",
        "        self.y_data=y_train\r\n",
        "\r\n",
        "    def __len__(self):\r\n",
        "        return len(self.x_data)\r\n",
        "    \r\n",
        "    def __getitem__(self,idx):\r\n",
        "        x=torch.FloatTensor(self.x_data[idx])\r\n",
        "        y=torch.FloatTensor(self.y_data[idx])\r\n",
        "        return x,y\r\n",
        "\r\n",
        "dataset=CustomDataset(x_train,y_train)\r\n",
        "\r\n",
        "data_loader=DataLoader(\r\n",
        "    dataset,\r\n",
        "    batch_size=32,\r\n",
        "    shuffle=True,\r\n",
        "    drop_last=True\r\n",
        ")"
      ],
      "execution_count": null,
      "outputs": []
    },
    {
      "cell_type": "code",
      "metadata": {
        "id": "kT-bAL06kX7k"
      },
      "source": [
        "model_lmks=torchvision.models.mobilenet_v2(pretrained=True)\r\n",
        "model=torchvision.models.mobilenet_v2()\r\n",
        "#for param in model_lmks.parameters():\r\n",
        "#  param.requires_grad=False\r\n",
        "num_ftrs=model_lmks.classifier[-1].in_features\r\n",
        "model_lmks.classifier=nn.Sequential(\r\n",
        "            nn.Linear(num_ftrs, 128),\r\n",
        "            nn.ReLU(),\r\n",
        "            #nn.Linear(640,128),\r\n",
        "            #nn.ReLU6(inplace=True),\r\n",
        "            nn.Linear(128,64),\r\n",
        "            nn.ReLU(),\r\n",
        "            nn.Linear(64,output_size)   \r\n",
        ")\r\n",
        "\r\n",
        "'''model_lmks.classifier[-1]=nn.Linear(num_ftrs,128)\r\n",
        "model_lmks.classifier.add_module('plus',nn.Sequential(\r\n",
        "    nn.ReLU(),\r\n",
        "    nn.Linear(128,64),\r\n",
        "    nn.ReLU(),\r\n",
        "    nn.Linear(64,output_size)\r\n",
        "))'''\r\n",
        "\r\n",
        "model_lmks=model_lmks.to(device)\r\n",
        "criterion=nn.MSELoss().to(device)\r\n",
        "optimizer=optim.Adam(model_lmks.parameters())"
      ],
      "execution_count": null,
      "outputs": []
    },
    {
      "cell_type": "code",
      "metadata": {
        "id": "Ne-vroMKJXP9"
      },
      "source": [
        "summary(model_lmks,(3,img_size,img_size))"
      ],
      "execution_count": null,
      "outputs": []
    },
    {
      "cell_type": "code",
      "metadata": {
        "id": "RBkW5IT9CvmX"
      },
      "source": [
        "#model_lmks1=torch.load('/content/gdrive/MyDrive/Trained_Models/'+'model_lmks_98')"
      ],
      "execution_count": null,
      "outputs": []
    },
    {
      "cell_type": "code",
      "metadata": {
        "id": "MzP9mRdaEd6f"
      },
      "source": [
        "#summary(model_lmks1,(3,img_size,img_size))"
      ],
      "execution_count": null,
      "outputs": []
    },
    {
      "cell_type": "code",
      "metadata": {
        "id": "-nIbb8hiPgbi"
      },
      "source": [
        "training_epochs=250\r\n",
        "\r\n",
        "for t in range(2):\r\n",
        "  status=0\r\n",
        "  for epoch in range(training_epochs+1):\r\n",
        "    avg_cost=0\r\n",
        "\r\n",
        "    for X,Y in data_loader:\r\n",
        "      X=X.to(device)\r\n",
        "      Y=Y.to(device)\r\n",
        "\r\n",
        "      pred=model_lmks(X)\r\n",
        "      optimizer.zero_grad()\r\n",
        "      cost=criterion(pred,Y)\r\n",
        "      cost.backward()\r\n",
        "      optimizer.step()\r\n",
        "      avg_cost+=cost\r\n",
        "\r\n",
        "    avg_cost=avg_cost/32\r\n",
        "    status=avg_cost\r\n",
        "    if epoch%25==0 and epoch!=0:\r\n",
        "      print('Training Epochs: {}, Avg_Cost : {}'.format(epoch,avg_cost))\r\n",
        "  time=datetime.datetime.now().strftime('%Y_%m_%d_%H_%M_%S')\r\n",
        "  torch.save(model_lmks.state_dict(),'/content/gdrive/MyDrive/Trained_Models/'+time+'model_lmks.pt')\r\n",
        "  print('------------------ {} time ended!---------------------')\r\n",
        "  "
      ],
      "execution_count": null,
      "outputs": []
    },
    {
      "cell_type": "code",
      "metadata": {
        "id": "da8iA8jf6SNX"
      },
      "source": [
        ""
      ],
      "execution_count": null,
      "outputs": []
    }
  ]
}
